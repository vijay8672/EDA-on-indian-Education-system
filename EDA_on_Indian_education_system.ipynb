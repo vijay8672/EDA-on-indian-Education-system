{
  "nbformat": 4,
  "nbformat_minor": 0,
  "metadata": {
    "colab": {
      "name": "EDA_on_Indian_education_system.ipynb",
      "provenance": [],
      "collapsed_sections": []
    },
    "kernelspec": {
      "name": "python3",
      "display_name": "Python 3"
    },
    "language_info": {
      "name": "python"
    }
  },
  "cells": [
    {
      "cell_type": "markdown",
      "metadata": {
        "id": "irRWulvIgqDg"
      },
      "source": [
        "## Installing the datasets"
      ]
    },
    {
      "cell_type": "code",
      "metadata": {
        "id": "SLc13bUzx0SP"
      },
      "source": [
        "!pip install opendatasets --upgrade --quiet"
      ],
      "execution_count": null,
      "outputs": []
    },
    {
      "cell_type": "code",
      "metadata": {
        "colab": {
          "base_uri": "https://localhost:8080/"
        },
        "id": "15mVLIYMxDn-",
        "outputId": "dac6c32c-4618-45e7-8217-22973d005f87"
      },
      "source": [
        "import opendatasets as od\n",
        "download_url = ('https://www.kaggle.com/vidyapb/indian-school-education-statistics')\n",
        "od.download(download_url)"
      ],
      "execution_count": null,
      "outputs": [
        {
          "output_type": "stream",
          "name": "stdout",
          "text": [
            "Skipping, found downloaded files in \"./indian-school-education-statistics\" (use force=True to force download)\n"
          ]
        }
      ]
    },
    {
      "cell_type": "code",
      "metadata": {
        "id": "_GNBAc_Oykqx"
      },
      "source": [
        "data_filename = '/content/indian-school-education-statistics/dropout-ratio-2012-2015.csv'"
      ],
      "execution_count": null,
      "outputs": []
    },
    {
      "cell_type": "code",
      "metadata": {
        "id": "As6_CU0tyktg"
      },
      "source": [
        "import pandas as pd\n",
        "import numpy as np"
      ],
      "execution_count": null,
      "outputs": []
    },
    {
      "cell_type": "code",
      "metadata": {
        "id": "zHOWhDHgykwu"
      },
      "source": [
        "df = pd.read_csv(data_filename)"
      ],
      "execution_count": null,
      "outputs": []
    },
    {
      "cell_type": "code",
      "metadata": {
        "colab": {
          "base_uri": "https://localhost:8080/",
          "height": 330
        },
        "id": "x00enOe5yk06",
        "outputId": "f0d47598-fb3b-403b-995f-b969fb63b3d9"
      },
      "source": [
        "df.head()"
      ],
      "execution_count": null,
      "outputs": [
        {
          "output_type": "execute_result",
          "data": {
            "text/html": [
              "<div>\n",
              "<style scoped>\n",
              "    .dataframe tbody tr th:only-of-type {\n",
              "        vertical-align: middle;\n",
              "    }\n",
              "\n",
              "    .dataframe tbody tr th {\n",
              "        vertical-align: top;\n",
              "    }\n",
              "\n",
              "    .dataframe thead th {\n",
              "        text-align: right;\n",
              "    }\n",
              "</style>\n",
              "<table border=\"1\" class=\"dataframe\">\n",
              "  <thead>\n",
              "    <tr style=\"text-align: right;\">\n",
              "      <th></th>\n",
              "      <th>State_UT</th>\n",
              "      <th>year</th>\n",
              "      <th>Primary_Boys</th>\n",
              "      <th>Primary_Girls</th>\n",
              "      <th>Primary_Total</th>\n",
              "      <th>Upper Primary_Boys</th>\n",
              "      <th>Upper Primary_Girls</th>\n",
              "      <th>Upper Primary_Total</th>\n",
              "      <th>Secondary _Boys</th>\n",
              "      <th>Secondary _Girls</th>\n",
              "      <th>Secondary _Total</th>\n",
              "      <th>HrSecondary_Boys</th>\n",
              "      <th>HrSecondary_Girls</th>\n",
              "      <th>HrSecondary_Total</th>\n",
              "    </tr>\n",
              "  </thead>\n",
              "  <tbody>\n",
              "    <tr>\n",
              "      <th>0</th>\n",
              "      <td>A &amp; N Islands</td>\n",
              "      <td>2012-13</td>\n",
              "      <td>0.83</td>\n",
              "      <td>0.51</td>\n",
              "      <td>0.68</td>\n",
              "      <td>Uppe_r_Primary</td>\n",
              "      <td>1.09</td>\n",
              "      <td>1.23</td>\n",
              "      <td>5.57</td>\n",
              "      <td>5.55</td>\n",
              "      <td>5.56</td>\n",
              "      <td>17.66</td>\n",
              "      <td>10.15</td>\n",
              "      <td>14.14</td>\n",
              "    </tr>\n",
              "    <tr>\n",
              "      <th>1</th>\n",
              "      <td>A &amp; N Islands</td>\n",
              "      <td>2013-14</td>\n",
              "      <td>1.35</td>\n",
              "      <td>1.06</td>\n",
              "      <td>1.21</td>\n",
              "      <td>NR</td>\n",
              "      <td>1.54</td>\n",
              "      <td>0.51</td>\n",
              "      <td>8.36</td>\n",
              "      <td>5.98</td>\n",
              "      <td>7.2</td>\n",
              "      <td>18.94</td>\n",
              "      <td>12.2</td>\n",
              "      <td>15.87</td>\n",
              "    </tr>\n",
              "    <tr>\n",
              "      <th>2</th>\n",
              "      <td>A &amp; N Islands</td>\n",
              "      <td>2014-15</td>\n",
              "      <td>0.47</td>\n",
              "      <td>0.55</td>\n",
              "      <td>0.51</td>\n",
              "      <td>1.44</td>\n",
              "      <td>1.95</td>\n",
              "      <td>1.69</td>\n",
              "      <td>11.47</td>\n",
              "      <td>8.16</td>\n",
              "      <td>9.87</td>\n",
              "      <td>21.05</td>\n",
              "      <td>12.21</td>\n",
              "      <td>16.93</td>\n",
              "    </tr>\n",
              "    <tr>\n",
              "      <th>3</th>\n",
              "      <td>Andhra Pradesh</td>\n",
              "      <td>2012-13</td>\n",
              "      <td>3.3</td>\n",
              "      <td>3.05</td>\n",
              "      <td>3.18</td>\n",
              "      <td>3.21</td>\n",
              "      <td>3.51</td>\n",
              "      <td>3.36</td>\n",
              "      <td>12.21</td>\n",
              "      <td>13.25</td>\n",
              "      <td>12.72</td>\n",
              "      <td>2.66</td>\n",
              "      <td>NR</td>\n",
              "      <td>0.35</td>\n",
              "    </tr>\n",
              "    <tr>\n",
              "      <th>4</th>\n",
              "      <td>Andhra Pradesh</td>\n",
              "      <td>2013-14</td>\n",
              "      <td>4.31</td>\n",
              "      <td>4.39</td>\n",
              "      <td>4.35</td>\n",
              "      <td>3.46</td>\n",
              "      <td>4.12</td>\n",
              "      <td>3.78</td>\n",
              "      <td>11.95</td>\n",
              "      <td>13.37</td>\n",
              "      <td>12.65</td>\n",
              "      <td>12.65</td>\n",
              "      <td>10.85</td>\n",
              "      <td>11.79</td>\n",
              "    </tr>\n",
              "  </tbody>\n",
              "</table>\n",
              "</div>"
            ],
            "text/plain": [
              "         State_UT     year  ... HrSecondary_Girls HrSecondary_Total\n",
              "0   A & N Islands  2012-13  ...             10.15             14.14\n",
              "1   A & N Islands  2013-14  ...              12.2             15.87\n",
              "2   A & N Islands  2014-15  ...             12.21             16.93\n",
              "3  Andhra Pradesh  2012-13  ...                NR              0.35\n",
              "4  Andhra Pradesh  2013-14  ...             10.85             11.79\n",
              "\n",
              "[5 rows x 14 columns]"
            ]
          },
          "metadata": {},
          "execution_count": 39
        }
      ]
    },
    {
      "cell_type": "code",
      "metadata": {
        "colab": {
          "base_uri": "https://localhost:8080/"
        },
        "id": "lijqGosGylCb",
        "outputId": "a4ba79f9-e03d-4741-8b83-aed7a3bcaab8"
      },
      "source": [
        "df.columns"
      ],
      "execution_count": null,
      "outputs": [
        {
          "output_type": "execute_result",
          "data": {
            "text/plain": [
              "Index(['State_UT', 'year', 'Primary_Boys', 'Primary_Girls', 'Primary_Total',\n",
              "       'Upper Primary_Boys', 'Upper Primary_Girls', 'Upper Primary_Total',\n",
              "       'Secondary _Boys', 'Secondary _Girls', 'Secondary _Total',\n",
              "       'HrSecondary_Boys', 'HrSecondary_Girls', 'HrSecondary_Total'],\n",
              "      dtype='object')"
            ]
          },
          "metadata": {},
          "execution_count": 40
        }
      ]
    },
    {
      "cell_type": "code",
      "metadata": {
        "colab": {
          "base_uri": "https://localhost:8080/"
        },
        "id": "eUAWw79gylEX",
        "outputId": "01190f71-b2e3-42e5-adcd-e4a67f31ab56"
      },
      "source": [
        "df.State_UT, df.year, df.Primary_Total"
      ],
      "execution_count": null,
      "outputs": [
        {
          "output_type": "execute_result",
          "data": {
            "text/plain": [
              "(0       A & N Islands\n",
              " 1       A & N Islands\n",
              " 2       A & N Islands\n",
              " 3      Andhra Pradesh\n",
              " 4      Andhra Pradesh\n",
              "             ...      \n",
              " 105       West Bengal\n",
              " 106       West Bengal\n",
              " 107         All India\n",
              " 108         All India\n",
              " 109         All India\n",
              " Name: State_UT, Length: 110, dtype: object, 0      2012-13\n",
              " 1      2013-14\n",
              " 2      2014-15\n",
              " 3      2012-13\n",
              " 4      2013-14\n",
              "         ...   \n",
              " 105    2013-14\n",
              " 106    2014-15\n",
              " 107    2012-13\n",
              " 108    2013-14\n",
              " 109    2014-15\n",
              " Name: year, Length: 110, dtype: object, 0      0.68\n",
              " 1      1.21\n",
              " 2      0.51\n",
              " 3      3.18\n",
              " 4      4.35\n",
              "        ... \n",
              " 105    2.91\n",
              " 106    1.47\n",
              " 107    4.67\n",
              " 108    4.34\n",
              " 109    4.13\n",
              " Name: Primary_Total, Length: 110, dtype: object)"
            ]
          },
          "metadata": {},
          "execution_count": 41
        }
      ]
    },
    {
      "cell_type": "code",
      "metadata": {
        "colab": {
          "base_uri": "https://localhost:8080/"
        },
        "id": "NUTZG9EGylG8",
        "outputId": "8072ea73-c946-41c5-d120-84028d30352c"
      },
      "source": [
        "df.isna().any()"
      ],
      "execution_count": null,
      "outputs": [
        {
          "output_type": "execute_result",
          "data": {
            "text/plain": [
              "State_UT               False\n",
              "year                   False\n",
              "Primary_Boys           False\n",
              "Primary_Girls          False\n",
              "Primary_Total          False\n",
              "Upper Primary_Boys     False\n",
              "Upper Primary_Girls    False\n",
              "Upper Primary_Total    False\n",
              "Secondary _Boys        False\n",
              "Secondary _Girls       False\n",
              "Secondary _Total       False\n",
              "HrSecondary_Boys       False\n",
              "HrSecondary_Girls      False\n",
              "HrSecondary_Total      False\n",
              "dtype: bool"
            ]
          },
          "metadata": {},
          "execution_count": 42
        }
      ]
    },
    {
      "cell_type": "code",
      "metadata": {
        "colab": {
          "base_uri": "https://localhost:8080/",
          "height": 233
        },
        "id": "O3DltHYXylJk",
        "outputId": "750b0574-5079-4c7e-aaf0-1cc9cb205acf"
      },
      "source": [
        "data_ap = df[df['State_UT']== 'Andhra Pradesh']\n",
        "data_ap.head()"
      ],
      "execution_count": null,
      "outputs": [
        {
          "output_type": "execute_result",
          "data": {
            "text/html": [
              "<div>\n",
              "<style scoped>\n",
              "    .dataframe tbody tr th:only-of-type {\n",
              "        vertical-align: middle;\n",
              "    }\n",
              "\n",
              "    .dataframe tbody tr th {\n",
              "        vertical-align: top;\n",
              "    }\n",
              "\n",
              "    .dataframe thead th {\n",
              "        text-align: right;\n",
              "    }\n",
              "</style>\n",
              "<table border=\"1\" class=\"dataframe\">\n",
              "  <thead>\n",
              "    <tr style=\"text-align: right;\">\n",
              "      <th></th>\n",
              "      <th>State_UT</th>\n",
              "      <th>year</th>\n",
              "      <th>Primary_Boys</th>\n",
              "      <th>Primary_Girls</th>\n",
              "      <th>Primary_Total</th>\n",
              "      <th>Upper Primary_Boys</th>\n",
              "      <th>Upper Primary_Girls</th>\n",
              "      <th>Upper Primary_Total</th>\n",
              "      <th>Secondary _Boys</th>\n",
              "      <th>Secondary _Girls</th>\n",
              "      <th>Secondary _Total</th>\n",
              "      <th>HrSecondary_Boys</th>\n",
              "      <th>HrSecondary_Girls</th>\n",
              "      <th>HrSecondary_Total</th>\n",
              "    </tr>\n",
              "  </thead>\n",
              "  <tbody>\n",
              "    <tr>\n",
              "      <th>3</th>\n",
              "      <td>Andhra Pradesh</td>\n",
              "      <td>2012-13</td>\n",
              "      <td>3.3</td>\n",
              "      <td>3.05</td>\n",
              "      <td>3.18</td>\n",
              "      <td>3.21</td>\n",
              "      <td>3.51</td>\n",
              "      <td>3.36</td>\n",
              "      <td>12.21</td>\n",
              "      <td>13.25</td>\n",
              "      <td>12.72</td>\n",
              "      <td>2.66</td>\n",
              "      <td>NR</td>\n",
              "      <td>0.35</td>\n",
              "    </tr>\n",
              "    <tr>\n",
              "      <th>4</th>\n",
              "      <td>Andhra Pradesh</td>\n",
              "      <td>2013-14</td>\n",
              "      <td>4.31</td>\n",
              "      <td>4.39</td>\n",
              "      <td>4.35</td>\n",
              "      <td>3.46</td>\n",
              "      <td>4.12</td>\n",
              "      <td>3.78</td>\n",
              "      <td>11.95</td>\n",
              "      <td>13.37</td>\n",
              "      <td>12.65</td>\n",
              "      <td>12.65</td>\n",
              "      <td>10.85</td>\n",
              "      <td>11.79</td>\n",
              "    </tr>\n",
              "    <tr>\n",
              "      <th>5</th>\n",
              "      <td>Andhra Pradesh</td>\n",
              "      <td>2014-15</td>\n",
              "      <td>6.57</td>\n",
              "      <td>6.89</td>\n",
              "      <td>6.72</td>\n",
              "      <td>5.09</td>\n",
              "      <td>5.32</td>\n",
              "      <td>5.2</td>\n",
              "      <td>15.81</td>\n",
              "      <td>15.6</td>\n",
              "      <td>15.71</td>\n",
              "      <td>NR</td>\n",
              "      <td>NR</td>\n",
              "      <td>NR</td>\n",
              "    </tr>\n",
              "  </tbody>\n",
              "</table>\n",
              "</div>"
            ],
            "text/plain": [
              "         State_UT     year  ... HrSecondary_Girls HrSecondary_Total\n",
              "3  Andhra Pradesh  2012-13  ...                NR              0.35\n",
              "4  Andhra Pradesh  2013-14  ...             10.85             11.79\n",
              "5  Andhra Pradesh  2014-15  ...                NR                NR\n",
              "\n",
              "[3 rows x 14 columns]"
            ]
          },
          "metadata": {},
          "execution_count": 43
        }
      ]
    },
    {
      "cell_type": "code",
      "metadata": {
        "colab": {
          "base_uri": "https://localhost:8080/"
        },
        "id": "1XrvxHYzylMP",
        "outputId": "cc3f05b0-691e-4581-aebe-2ef4527650f6"
      },
      "source": [
        "data_ap.info()"
      ],
      "execution_count": null,
      "outputs": [
        {
          "output_type": "stream",
          "name": "stdout",
          "text": [
            "<class 'pandas.core.frame.DataFrame'>\n",
            "Int64Index: 3 entries, 3 to 5\n",
            "Data columns (total 14 columns):\n",
            " #   Column               Non-Null Count  Dtype \n",
            "---  ------               --------------  ----- \n",
            " 0   State_UT             3 non-null      object\n",
            " 1   year                 3 non-null      object\n",
            " 2   Primary_Boys         3 non-null      object\n",
            " 3   Primary_Girls        3 non-null      object\n",
            " 4   Primary_Total        3 non-null      object\n",
            " 5   Upper Primary_Boys   3 non-null      object\n",
            " 6   Upper Primary_Girls  3 non-null      object\n",
            " 7   Upper Primary_Total  3 non-null      object\n",
            " 8   Secondary _Boys      3 non-null      object\n",
            " 9   Secondary _Girls     3 non-null      object\n",
            " 10  Secondary _Total     3 non-null      object\n",
            " 11  HrSecondary_Boys     3 non-null      object\n",
            " 12  HrSecondary_Girls    3 non-null      object\n",
            " 13  HrSecondary_Total    3 non-null      object\n",
            "dtypes: object(14)\n",
            "memory usage: 360.0+ bytes\n"
          ]
        }
      ]
    },
    {
      "cell_type": "code",
      "metadata": {
        "colab": {
          "base_uri": "https://localhost:8080/"
        },
        "id": "bmTSFMSDylQU",
        "outputId": "3a5ce37c-6fc5-4e08-8de9-e12a9012d170"
      },
      "source": [
        "df['Primary_Boys'].values"
      ],
      "execution_count": null,
      "outputs": [
        {
          "output_type": "execute_result",
          "data": {
            "text/plain": [
              "array(['0.83', '1.35', '0.47', '3.3', '4.31', '6.57', '11.54', '15.84',\n",
              "       '11.51', '7.02', '8.19', '16.07', 'NR', '2.38', '0.35', 'NR', 'NR',\n",
              "       'NR', '4.24', '1.45', '3.08', 'NR', '1.05', '1.6', 'NR', '1.06',\n",
              "       '1.8', 'NR', 'NR', 'NR', 'NR', '0.08', '0.63', '0.21', '0.5',\n",
              "       '0.82', '1.48', '0.22', '5.54', '0.51', '0.57', '0.46', '6.8',\n",
              "       '5.53', '6.98', '7.36', '6.89', '5.91', '3.4', '2.42', '2.03',\n",
              "       'NR', 'NR', 'NR', '2.3', '0', 'NR', '5.75', '9.91', '6.48', '0.88',\n",
              "       '0.51', '1.26', '10.24', '17.27', '9.5', '11.32', '11.3', '10.35',\n",
              "       '24.27', '12.57', '10.17', '7.11', '19.09', '6.18', '3.63', '2.83',\n",
              "       '2.91', '0.25', '0.76', '0.36', '1.99', '1.35', '2.89', '7.2',\n",
              "       '7.76', '5.02', '4.78', '5.55', '3.75', '4.02', '0.53', 'NR',\n",
              "       '6.04', '2.21', '2.31', '3.63', '1.37', '10.53', '7.91', '9.08',\n",
              "       '1.14', '3.28', '4.37', '6.88', '3.44', '2.13', '4.68', '4.53',\n",
              "       '4.36'], dtype=object)"
            ]
          },
          "metadata": {},
          "execution_count": 45
        }
      ]
    },
    {
      "cell_type": "code",
      "metadata": {
        "id": "nk10zSK_ylSF"
      },
      "source": [
        "df = df.replace('NR', 0)"
      ],
      "execution_count": null,
      "outputs": []
    },
    {
      "cell_type": "code",
      "metadata": {
        "colab": {
          "base_uri": "https://localhost:8080/"
        },
        "id": "mmGqrFIXylUc",
        "outputId": "c3d14dcd-2b34-450f-b941-44d1203c3f41"
      },
      "source": [
        "df['Upper Primary_Girls'].values"
      ],
      "execution_count": null,
      "outputs": [
        {
          "output_type": "execute_result",
          "data": {
            "text/plain": [
              "array(['1.09', '1.54', '1.95', '3.51', '4.12', '5.32', '6.74', '9.06',\n",
              "       '8.08', '6.55', '6.54', '10.56', 0, '3.19', '4.01', '0.88', '1.55',\n",
              "       '0.96', '4.73', '3.51', '5.22', '4.3', '5.09', '4.4', 0, '3.72',\n",
              "       '3.07', '0.31', '2.37', '0.55', 0, 0, '0.21', '8.19', '8.04',\n",
              "       '8.54', '0.8', '3.25', '6.18', '0.49', '0.98', '1.27', '5.52',\n",
              "       '4.8', '5.95', '5.94', '7.65', '8.96', '5.15', '2.73', '4.27', 0,\n",
              "       0, '0', 0, '2.5', '3.18', '10.27', '13.57', '10.7', '2.72', '1.5',\n",
              "       '2.83', '6.65', '6.54', '4.8', '7.34', '7.28', '6.3', '19.21',\n",
              "       '5.39', '4.06', '9.51', '17.63', '7.97', '3.52', '2.48', '3.49',\n",
              "       '1.05', '0.83', '0.69', '3.04', '3.27', '3.55', '6.34', '7.95',\n",
              "       '3.73', '3.64', '3.98', '1.08', '2.13', '4.67', 0, '4.79', '2.17',\n",
              "       '3.07', '2.2', '1.61', '3.1', '2.43', '4.61', '1', '1.57', '1.62',\n",
              "       '4.16', '3.1', '2.88', '4.01', '4.49', '4.6'], dtype=object)"
            ]
          },
          "metadata": {},
          "execution_count": 47
        }
      ]
    },
    {
      "cell_type": "code",
      "metadata": {
        "id": "2wz9Dt1rylXY"
      },
      "source": [
        "df['Primary_Boys'] = df['Primary_Boys'].values.astype(np.float32)\n",
        "df['Primary_Girls'] = df['Primary_Girls'].values.astype(np.float32)"
      ],
      "execution_count": null,
      "outputs": []
    },
    {
      "cell_type": "code",
      "metadata": {
        "id": "sM-AiLieHtlx"
      },
      "source": [
        "df = df.replace('Uppe_r_Primary',0)"
      ],
      "execution_count": null,
      "outputs": []
    },
    {
      "cell_type": "code",
      "metadata": {
        "id": "pUVViexcD8Tl"
      },
      "source": [
        "df['Upper Primary_Boys'] = df['Upper Primary_Boys'].values.astype(np.float32)\n",
        "df['Upper Primary_Girls'] = df['Upper Primary_Girls'].values.astype(np.float32)"
      ],
      "execution_count": null,
      "outputs": []
    },
    {
      "cell_type": "code",
      "metadata": {
        "id": "WHikNY3mD8N7"
      },
      "source": [
        "df['Secondary _Boys'] = df['Secondary _Boys'].values.astype(np.float32)\n",
        "df['Secondary _Girls'] = df['Secondary _Girls'].values.astype(np.float32)"
      ],
      "execution_count": null,
      "outputs": []
    },
    {
      "cell_type": "code",
      "metadata": {
        "id": "zD5UQtxjD8H3"
      },
      "source": [
        "df['HrSecondary_Boys'] = df['HrSecondary_Boys'].values.astype(np.float32)\n",
        "df['HrSecondary_Girls'] = df['HrSecondary_Girls'].values.astype(np.float32)"
      ],
      "execution_count": null,
      "outputs": []
    },
    {
      "cell_type": "code",
      "metadata": {
        "id": "YQzDBnyxD8P5"
      },
      "source": [
        "import matplotlib.pyplot as plt\n",
        "import numpy as np\n",
        "import seaborn as sns"
      ],
      "execution_count": null,
      "outputs": []
    },
    {
      "cell_type": "code",
      "metadata": {
        "colab": {
          "base_uri": "https://localhost:8080/",
          "height": 300
        },
        "id": "nQyVPtCcylbO",
        "outputId": "f6a00870-1fae-4923-c6d6-fb244eacc748"
      },
      "source": [
        "df.describe()"
      ],
      "execution_count": null,
      "outputs": [
        {
          "output_type": "execute_result",
          "data": {
            "text/html": [
              "<div>\n",
              "<style scoped>\n",
              "    .dataframe tbody tr th:only-of-type {\n",
              "        vertical-align: middle;\n",
              "    }\n",
              "\n",
              "    .dataframe tbody tr th {\n",
              "        vertical-align: top;\n",
              "    }\n",
              "\n",
              "    .dataframe thead th {\n",
              "        text-align: right;\n",
              "    }\n",
              "</style>\n",
              "<table border=\"1\" class=\"dataframe\">\n",
              "  <thead>\n",
              "    <tr style=\"text-align: right;\">\n",
              "      <th></th>\n",
              "      <th>Primary_Boys</th>\n",
              "      <th>Primary_Girls</th>\n",
              "      <th>Upper Primary_Boys</th>\n",
              "      <th>Upper Primary_Girls</th>\n",
              "      <th>Secondary _Boys</th>\n",
              "      <th>Secondary _Girls</th>\n",
              "      <th>HrSecondary_Boys</th>\n",
              "      <th>HrSecondary_Girls</th>\n",
              "    </tr>\n",
              "  </thead>\n",
              "  <tbody>\n",
              "    <tr>\n",
              "      <th>count</th>\n",
              "      <td>110.000000</td>\n",
              "      <td>110.000000</td>\n",
              "      <td>110.000000</td>\n",
              "      <td>110.000000</td>\n",
              "      <td>110.000000</td>\n",
              "      <td>110.000000</td>\n",
              "      <td>110.000000</td>\n",
              "      <td>110.000000</td>\n",
              "    </tr>\n",
              "    <tr>\n",
              "      <th>mean</th>\n",
              "      <td>4.293454</td>\n",
              "      <td>4.010818</td>\n",
              "      <td>3.581908</td>\n",
              "      <td>4.169455</td>\n",
              "      <td>17.162271</td>\n",
              "      <td>16.311455</td>\n",
              "      <td>6.967999</td>\n",
              "      <td>4.979363</td>\n",
              "    </tr>\n",
              "    <tr>\n",
              "      <th>std</th>\n",
              "      <td>4.674720</td>\n",
              "      <td>4.553512</td>\n",
              "      <td>3.388699</td>\n",
              "      <td>3.444964</td>\n",
              "      <td>8.931008</td>\n",
              "      <td>9.403942</td>\n",
              "      <td>7.404572</td>\n",
              "      <td>5.468029</td>\n",
              "    </tr>\n",
              "    <tr>\n",
              "      <th>min</th>\n",
              "      <td>0.000000</td>\n",
              "      <td>0.000000</td>\n",
              "      <td>0.000000</td>\n",
              "      <td>0.000000</td>\n",
              "      <td>0.000000</td>\n",
              "      <td>0.000000</td>\n",
              "      <td>0.000000</td>\n",
              "      <td>0.000000</td>\n",
              "    </tr>\n",
              "    <tr>\n",
              "      <th>25%</th>\n",
              "      <td>0.540000</td>\n",
              "      <td>0.590000</td>\n",
              "      <td>0.782500</td>\n",
              "      <td>1.580000</td>\n",
              "      <td>11.312500</td>\n",
              "      <td>9.385000</td>\n",
              "      <td>0.057500</td>\n",
              "      <td>0.000000</td>\n",
              "    </tr>\n",
              "    <tr>\n",
              "      <th>50%</th>\n",
              "      <td>2.900000</td>\n",
              "      <td>2.440000</td>\n",
              "      <td>3.120000</td>\n",
              "      <td>3.535000</td>\n",
              "      <td>16.105000</td>\n",
              "      <td>14.985000</td>\n",
              "      <td>5.680000</td>\n",
              "      <td>3.880000</td>\n",
              "    </tr>\n",
              "    <tr>\n",
              "      <th>75%</th>\n",
              "      <td>6.742500</td>\n",
              "      <td>5.870000</td>\n",
              "      <td>5.422500</td>\n",
              "      <td>5.835000</td>\n",
              "      <td>23.012500</td>\n",
              "      <td>21.682500</td>\n",
              "      <td>11.765000</td>\n",
              "      <td>8.470000</td>\n",
              "    </tr>\n",
              "    <tr>\n",
              "      <th>max</th>\n",
              "      <td>24.270000</td>\n",
              "      <td>23.930000</td>\n",
              "      <td>19.350000</td>\n",
              "      <td>19.209999</td>\n",
              "      <td>50.090000</td>\n",
              "      <td>49.619999</td>\n",
              "      <td>44.380001</td>\n",
              "      <td>36.049999</td>\n",
              "    </tr>\n",
              "  </tbody>\n",
              "</table>\n",
              "</div>"
            ],
            "text/plain": [
              "       Primary_Boys  Primary_Girls  ...  HrSecondary_Boys  HrSecondary_Girls\n",
              "count    110.000000     110.000000  ...        110.000000         110.000000\n",
              "mean       4.293454       4.010818  ...          6.967999           4.979363\n",
              "std        4.674720       4.553512  ...          7.404572           5.468029\n",
              "min        0.000000       0.000000  ...          0.000000           0.000000\n",
              "25%        0.540000       0.590000  ...          0.057500           0.000000\n",
              "50%        2.900000       2.440000  ...          5.680000           3.880000\n",
              "75%        6.742500       5.870000  ...         11.765000           8.470000\n",
              "max       24.270000      23.930000  ...         44.380001          36.049999\n",
              "\n",
              "[8 rows x 8 columns]"
            ]
          },
          "metadata": {},
          "execution_count": 54
        }
      ]
    },
    {
      "cell_type": "code",
      "metadata": {
        "colab": {
          "base_uri": "https://localhost:8080/"
        },
        "id": "iAJNdPuoD8MF",
        "outputId": "ca0c830f-d1d6-4173-fa28-06f7c2f43d55"
      },
      "source": [
        "df.info()"
      ],
      "execution_count": null,
      "outputs": [
        {
          "output_type": "stream",
          "name": "stdout",
          "text": [
            "<class 'pandas.core.frame.DataFrame'>\n",
            "RangeIndex: 110 entries, 0 to 109\n",
            "Data columns (total 14 columns):\n",
            " #   Column               Non-Null Count  Dtype  \n",
            "---  ------               --------------  -----  \n",
            " 0   State_UT             110 non-null    object \n",
            " 1   year                 110 non-null    object \n",
            " 2   Primary_Boys         110 non-null    float32\n",
            " 3   Primary_Girls        110 non-null    float32\n",
            " 4   Primary_Total        110 non-null    object \n",
            " 5   Upper Primary_Boys   110 non-null    float32\n",
            " 6   Upper Primary_Girls  110 non-null    float32\n",
            " 7   Upper Primary_Total  110 non-null    object \n",
            " 8   Secondary _Boys      110 non-null    float32\n",
            " 9   Secondary _Girls     110 non-null    float32\n",
            " 10  Secondary _Total     110 non-null    object \n",
            " 11  HrSecondary_Boys     110 non-null    float32\n",
            " 12  HrSecondary_Girls    110 non-null    float32\n",
            " 13  HrSecondary_Total    110 non-null    object \n",
            "dtypes: float32(8), object(6)\n",
            "memory usage: 8.7+ KB\n"
          ]
        }
      ]
    },
    {
      "cell_type": "code",
      "metadata": {
        "colab": {
          "base_uri": "https://localhost:8080/"
        },
        "id": "rQHjtscuD8FJ",
        "outputId": "e19ac8d9-5d81-49f9-dc50-e839298960b1"
      },
      "source": [
        "years = data_ap['year'].values\n",
        "years"
      ],
      "execution_count": null,
      "outputs": [
        {
          "output_type": "execute_result",
          "data": {
            "text/plain": [
              "array(['2012-13', '2013-14', '2014-15'], dtype=object)"
            ]
          },
          "metadata": {},
          "execution_count": 56
        }
      ]
    },
    {
      "cell_type": "code",
      "metadata": {
        "colab": {
          "base_uri": "https://localhost:8080/",
          "height": 566
        },
        "id": "KGKQ7N1xD8DG",
        "outputId": "a47d0599-f24b-4ff3-d069-9868b2a7a11b"
      },
      "source": [
        "plt.figure(figsize=(50,20))\n",
        "sns.countplot(df['State_UT'])"
      ],
      "execution_count": null,
      "outputs": [
        {
          "output_type": "stream",
          "name": "stderr",
          "text": [
            "/usr/local/lib/python3.7/dist-packages/seaborn/_decorators.py:43: FutureWarning: Pass the following variable as a keyword arg: x. From version 0.12, the only valid positional argument will be `data`, and passing other arguments without an explicit keyword will result in an error or misinterpretation.\n",
            "  FutureWarning\n"
          ]
        },
        {
          "output_type": "execute_result",
          "data": {
            "text/plain": [
              "<matplotlib.axes._subplots.AxesSubplot at 0x7f346796ded0>"
            ]
          },
          "metadata": {},
          "execution_count": 57
        },
        {
          "output_type": "display_data",
          "data": {
            "image/png": "[encoded data removed]",
            "text/plain": [
              "<Figure size 3600x1440 with 1 Axes>"
            ]
          },
          "metadata": {
            "needs_background": "light"
          }
        }
      ]
    },
    {
      "cell_type": "code",
      "metadata": {
        "colab": {
          "base_uri": "https://localhost:8080/",
          "height": 233
        },
        "id": "OScFRenWLvu-",
        "outputId": "c00799dd-c85b-4b9b-aeaa-8cc7614b254a"
      },
      "source": [
        "data_ap.head()"
      ],
      "execution_count": null,
      "outputs": [
        {
          "output_type": "execute_result",
          "data": {
            "text/html": [
              "<div>\n",
              "<style scoped>\n",
              "    .dataframe tbody tr th:only-of-type {\n",
              "        vertical-align: middle;\n",
              "    }\n",
              "\n",
              "    .dataframe tbody tr th {\n",
              "        vertical-align: top;\n",
              "    }\n",
              "\n",
              "    .dataframe thead th {\n",
              "        text-align: right;\n",
              "    }\n",
              "</style>\n",
              "<table border=\"1\" class=\"dataframe\">\n",
              "  <thead>\n",
              "    <tr style=\"text-align: right;\">\n",
              "      <th></th>\n",
              "      <th>State_UT</th>\n",
              "      <th>year</th>\n",
              "      <th>Primary_Boys</th>\n",
              "      <th>Primary_Girls</th>\n",
              "      <th>Primary_Total</th>\n",
              "      <th>Upper Primary_Boys</th>\n",
              "      <th>Upper Primary_Girls</th>\n",
              "      <th>Upper Primary_Total</th>\n",
              "      <th>Secondary _Boys</th>\n",
              "      <th>Secondary _Girls</th>\n",
              "      <th>Secondary _Total</th>\n",
              "      <th>HrSecondary_Boys</th>\n",
              "      <th>HrSecondary_Girls</th>\n",
              "      <th>HrSecondary_Total</th>\n",
              "    </tr>\n",
              "  </thead>\n",
              "  <tbody>\n",
              "    <tr>\n",
              "      <th>3</th>\n",
              "      <td>Andhra Pradesh</td>\n",
              "      <td>2012-13</td>\n",
              "      <td>3.3</td>\n",
              "      <td>3.05</td>\n",
              "      <td>3.18</td>\n",
              "      <td>3.21</td>\n",
              "      <td>3.51</td>\n",
              "      <td>3.36</td>\n",
              "      <td>12.21</td>\n",
              "      <td>13.25</td>\n",
              "      <td>12.72</td>\n",
              "      <td>2.66</td>\n",
              "      <td>NR</td>\n",
              "      <td>0.35</td>\n",
              "    </tr>\n",
              "    <tr>\n",
              "      <th>4</th>\n",
              "      <td>Andhra Pradesh</td>\n",
              "      <td>2013-14</td>\n",
              "      <td>4.31</td>\n",
              "      <td>4.39</td>\n",
              "      <td>4.35</td>\n",
              "      <td>3.46</td>\n",
              "      <td>4.12</td>\n",
              "      <td>3.78</td>\n",
              "      <td>11.95</td>\n",
              "      <td>13.37</td>\n",
              "      <td>12.65</td>\n",
              "      <td>12.65</td>\n",
              "      <td>10.85</td>\n",
              "      <td>11.79</td>\n",
              "    </tr>\n",
              "    <tr>\n",
              "      <th>5</th>\n",
              "      <td>Andhra Pradesh</td>\n",
              "      <td>2014-15</td>\n",
              "      <td>6.57</td>\n",
              "      <td>6.89</td>\n",
              "      <td>6.72</td>\n",
              "      <td>5.09</td>\n",
              "      <td>5.32</td>\n",
              "      <td>5.2</td>\n",
              "      <td>15.81</td>\n",
              "      <td>15.6</td>\n",
              "      <td>15.71</td>\n",
              "      <td>NR</td>\n",
              "      <td>NR</td>\n",
              "      <td>NR</td>\n",
              "    </tr>\n",
              "  </tbody>\n",
              "</table>\n",
              "</div>"
            ],
            "text/plain": [
              "         State_UT     year  ... HrSecondary_Girls HrSecondary_Total\n",
              "3  Andhra Pradesh  2012-13  ...                NR              0.35\n",
              "4  Andhra Pradesh  2013-14  ...             10.85             11.79\n",
              "5  Andhra Pradesh  2014-15  ...                NR                NR\n",
              "\n",
              "[3 rows x 14 columns]"
            ]
          },
          "metadata": {},
          "execution_count": 58
        }
      ]
    },
    {
      "cell_type": "code",
      "metadata": {
        "colab": {
          "base_uri": "https://localhost:8080/",
          "height": 296
        },
        "id": "fneGEESILvsH",
        "outputId": "a4625c55-72ff-4555-c3f4-0438018c33b3"
      },
      "source": [
        "plt.bar(data_ap['Primary_Girls'],data_ap['year'])\n",
        "plt.xlabel('Primary_Girls')\n",
        "plt.ylabel('year')\n",
        "plt.title(\" Primary school girls year wise drop out ratio\")\n",
        "plt.show()"
      ],
      "execution_count": null,
      "outputs": [
        {
          "output_type": "display_data",
          "data": {
            "image/png": "[encoded data removed]",
            "text/plain": [
              "<Figure size 432x288 with 1 Axes>"
            ]
          },
          "metadata": {
            "needs_background": "light"
          }
        }
      ]
    },
    {
      "cell_type": "code",
      "metadata": {
        "colab": {
          "base_uri": "https://localhost:8080/",
          "height": 352
        },
        "id": "70vly5jXLvqL",
        "outputId": "4801751d-5674-4c0f-a0b6-edfcba3213a8"
      },
      "source": [
        "plt.hist(df['HrSecondary_Girls'])"
      ],
      "execution_count": null,
      "outputs": [
        {
          "output_type": "execute_result",
          "data": {
            "text/plain": [
              "(array([52., 25., 18., 11.,  3.,  0.,  0.,  0.,  0.,  1.]),\n",
              " array([ 0.      ,  3.605   ,  7.21    , 10.815   , 14.42    , 18.025   ,\n",
              "        21.63    , 25.234999, 28.84    , 32.445   , 36.05    ],\n",
              "       dtype=float32),\n",
              " <a list of 10 Patch objects>)"
            ]
          },
          "metadata": {},
          "execution_count": 60
        },
        {
          "output_type": "display_data",
          "data": {
            "image/png": "[encoded data removed]",
            "text/plain": [
              "<Figure size 432x288 with 1 Axes>"
            ]
          },
          "metadata": {
            "needs_background": "light"
          }
        }
      ]
    },
    {
      "cell_type": "code",
      "metadata": {
        "colab": {
          "base_uri": "https://localhost:8080/"
        },
        "id": "-f5ea9niLvnN",
        "outputId": "2add1e99-8497-44c1-aaf3-7bdd12de1d73"
      },
      "source": [
        "df.info()"
      ],
      "execution_count": null,
      "outputs": [
        {
          "output_type": "stream",
          "name": "stdout",
          "text": [
            "<class 'pandas.core.frame.DataFrame'>\n",
            "RangeIndex: 110 entries, 0 to 109\n",
            "Data columns (total 14 columns):\n",
            " #   Column               Non-Null Count  Dtype  \n",
            "---  ------               --------------  -----  \n",
            " 0   State_UT             110 non-null    object \n",
            " 1   year                 110 non-null    object \n",
            " 2   Primary_Boys         110 non-null    float32\n",
            " 3   Primary_Girls        110 non-null    float32\n",
            " 4   Primary_Total        110 non-null    object \n",
            " 5   Upper Primary_Boys   110 non-null    float32\n",
            " 6   Upper Primary_Girls  110 non-null    float32\n",
            " 7   Upper Primary_Total  110 non-null    object \n",
            " 8   Secondary _Boys      110 non-null    float32\n",
            " 9   Secondary _Girls     110 non-null    float32\n",
            " 10  Secondary _Total     110 non-null    object \n",
            " 11  HrSecondary_Boys     110 non-null    float32\n",
            " 12  HrSecondary_Girls    110 non-null    float32\n",
            " 13  HrSecondary_Total    110 non-null    object \n",
            "dtypes: float32(8), object(6)\n",
            "memory usage: 8.7+ KB\n"
          ]
        }
      ]
    },
    {
      "cell_type": "code",
      "metadata": {
        "id": "XYDrvWBja3pb"
      },
      "source": [
        "import matplotlib.pyplot as plt\n"
      ],
      "execution_count": null,
      "outputs": []
    },
    {
      "cell_type": "markdown",
      "metadata": {
        "id": "uP3uks8df9h3"
      },
      "source": [
        "### Outlier Detection\n",
        " -- Using Boxplot\n"
      ]
    },
    {
      "cell_type": "code",
      "metadata": {
        "colab": {
          "base_uri": "https://localhost:8080/",
          "height": 768
        },
        "id": "NeNfZq12LviJ",
        "outputId": "c8268aad-d1ae-4c2b-981e-ab4ed5d2d4fe"
      },
      "source": [
        "## outlier detection using Boxplots\n",
        "\n",
        "plt.figure(figsize= (20,15))\n",
        "plt.subplot(4,4,1)\n",
        "sns.boxplot(df['HrSecondary_Girls'])\n",
        "\n",
        "plt.subplot(4,4,2)\n",
        "sns.boxplot(df['HrSecondary_Boys'])\n",
        "\n",
        "plt.subplot(4,4,3)\n",
        "sns.boxplot(df['Primary_Girls'])\n",
        "\n",
        "plt.subplot(4,4,4)\n",
        "sns.boxplot(df['Primary_Boys'])\n",
        "\n",
        "plt.subplot(4,4,5)\n",
        "sns.boxplot(df['Secondary _Boys'])\n",
        "\n",
        "plt.subplot(4,4,6)\n",
        "sns.boxplot(df['Secondary _Girls'])\n",
        "\n",
        "plt.subplot(4,4,7)\n",
        "sns.boxplot(df['Upper Primary_Boys'])\n",
        "\n",
        "plt.subplot(4,4,8)\n",
        "sns.boxplot(df['Upper Primary_Girls'])"
      ],
      "execution_count": null,
      "outputs": [
        {
          "output_type": "stream",
          "name": "stderr",
          "text": [
            "/usr/local/lib/python3.7/dist-packages/seaborn/_decorators.py:43: FutureWarning: Pass the following variable as a keyword arg: x. From version 0.12, the only valid positional argument will be `data`, and passing other arguments without an explicit keyword will result in an error or misinterpretation.\n",
            "  FutureWarning\n",
            "/usr/local/lib/python3.7/dist-packages/seaborn/_decorators.py:43: FutureWarning: Pass the following variable as a keyword arg: x. From version 0.12, the only valid positional argument will be `data`, and passing other arguments without an explicit keyword will result in an error or misinterpretation.\n",
            "  FutureWarning\n",
            "/usr/local/lib/python3.7/dist-packages/seaborn/_decorators.py:43: FutureWarning: Pass the following variable as a keyword arg: x. From version 0.12, the only valid positional argument will be `data`, and passing other arguments without an explicit keyword will result in an error or misinterpretation.\n",
            "  FutureWarning\n",
            "/usr/local/lib/python3.7/dist-packages/seaborn/_decorators.py:43: FutureWarning: Pass the following variable as a keyword arg: x. From version 0.12, the only valid positional argument will be `data`, and passing other arguments without an explicit keyword will result in an error or misinterpretation.\n",
            "  FutureWarning\n",
            "/usr/local/lib/python3.7/dist-packages/seaborn/_decorators.py:43: FutureWarning: Pass the following variable as a keyword arg: x. From version 0.12, the only valid positional argument will be `data`, and passing other arguments without an explicit keyword will result in an error or misinterpretation.\n",
            "  FutureWarning\n",
            "/usr/local/lib/python3.7/dist-packages/seaborn/_decorators.py:43: FutureWarning: Pass the following variable as a keyword arg: x. From version 0.12, the only valid positional argument will be `data`, and passing other arguments without an explicit keyword will result in an error or misinterpretation.\n",
            "  FutureWarning\n",
            "/usr/local/lib/python3.7/dist-packages/seaborn/_decorators.py:43: FutureWarning: Pass the following variable as a keyword arg: x. From version 0.12, the only valid positional argument will be `data`, and passing other arguments without an explicit keyword will result in an error or misinterpretation.\n",
            "  FutureWarning\n",
            "/usr/local/lib/python3.7/dist-packages/seaborn/_decorators.py:43: FutureWarning: Pass the following variable as a keyword arg: x. From version 0.12, the only valid positional argument will be `data`, and passing other arguments without an explicit keyword will result in an error or misinterpretation.\n",
            "  FutureWarning\n"
          ]
        },
        {
          "output_type": "execute_result",
          "data": {
            "text/plain": [
              "<matplotlib.axes._subplots.AxesSubplot at 0x7f346760bd90>"
            ]
          },
          "metadata": {},
          "execution_count": 63
        },
        {
          "output_type": "display_data",
          "data": {
            "image/png": "[encoded data removed]",
            "text/plain": [
              "<Figure size 1440x1080 with 8 Axes>"
            ]
          },
          "metadata": {
            "needs_background": "light"
          }
        }
      ]
    },
    {
      "cell_type": "markdown",
      "metadata": {
        "id": "Rufynrp6fnOg"
      },
      "source": [
        "### Clipping the data so that the outliers can be eliminated"
      ]
    },
    {
      "cell_type": "code",
      "metadata": {
        "id": "wMobqO_YLvcb"
      },
      "source": [
        "df['HrSecondary_Boys'] = df['HrSecondary_Boys'] .clip(lower =df['HrSecondary_Boys'].quantile(0.05), upper = df['HrSecondary_Boys'].quantile(0.95))"
      ],
      "execution_count": null,
      "outputs": []
    },
    {
      "cell_type": "code",
      "metadata": {
        "colab": {
          "base_uri": "https://localhost:8080/",
          "height": 312
        },
        "id": "GviZhZ42LvXA",
        "outputId": "3bf42ae7-2b91-4747-880a-549bef5167ec"
      },
      "source": [
        "plt.figure(figsize= (20,15))\n",
        "plt.subplot(4,4,1)\n",
        "sns.boxplot(df['HrSecondary_Boys'])"
      ],
      "execution_count": null,
      "outputs": [
        {
          "output_type": "stream",
          "name": "stderr",
          "text": [
            "/usr/local/lib/python3.7/dist-packages/seaborn/_decorators.py:43: FutureWarning: Pass the following variable as a keyword arg: x. From version 0.12, the only valid positional argument will be `data`, and passing other arguments without an explicit keyword will result in an error or misinterpretation.\n",
            "  FutureWarning\n"
          ]
        },
        {
          "output_type": "execute_result",
          "data": {
            "text/plain": [
              "<matplotlib.axes._subplots.AxesSubplot at 0x7f346953bcd0>"
            ]
          },
          "metadata": {},
          "execution_count": 65
        },
        {
          "output_type": "display_data",
          "data": {
            "image/png": "[encoded data removed]",
            "text/plain": [
              "<Figure size 1440x1080 with 1 Axes>"
            ]
          },
          "metadata": {
            "needs_background": "light"
          }
        }
      ]
    },
    {
      "cell_type": "code",
      "metadata": {
        "id": "25lrxwWtLvZz"
      },
      "source": [
        "\n"
      ],
      "execution_count": null,
      "outputs": []
    }
  ]
}